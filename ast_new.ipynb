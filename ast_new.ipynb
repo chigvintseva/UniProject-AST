{
  "nbformat": 4,
  "nbformat_minor": 0,
  "metadata": {
    "colab": {
      "provenance": [],
      "authorship_tag": "ABX9TyMB5dZj0xpNF+jp0JzGphp8",
      "include_colab_link": true
    },
    "kernelspec": {
      "name": "python3",
      "display_name": "Python 3"
    },
    "language_info": {
      "name": "python"
    }
  },
  "cells": [
    {
      "cell_type": "markdown",
      "metadata": {
        "id": "view-in-github",
        "colab_type": "text"
      },
      "source": [
        "<a href=\"https://colab.research.google.com/github/chigvintseva/UniProject-AST/blob/main/ast_new.ipynb\" target=\"_parent\"><img src=\"https://colab.research.google.com/assets/colab-badge.svg\" alt=\"Open In Colab\"/></a>"
      ]
    },
    {
      "cell_type": "markdown",
      "source": [
        "# Data generation"
      ],
      "metadata": {
        "id": "9USiSL0dRtLu"
      }
    },
    {
      "cell_type": "code",
      "execution_count": 15,
      "metadata": {
        "colab": {
          "base_uri": "https://localhost:8080/"
        },
        "id": "TieprGrbRHNW",
        "outputId": "0c74f7a7-afda-49d9-a69e-cc047a6ce33e"
      },
      "outputs": [
        {
          "output_type": "stream",
          "name": "stderr",
          "text": [
            "/tmp/ipython-input-15-3865519972.py:13: FutureWarning: 'T' is deprecated and will be removed in a future version, please use 'min' instead.\n",
            "  timestamps = pd.date_range(start='2025-06-20 09:00:00', periods=60, freq='T')\n"
          ]
        }
      ],
      "source": [
        "# STEP 1: Generate Synthetic Dataset\n",
        "import numpy as np\n",
        "import pandas as pd\n",
        "import matplotlib.pyplot as plt\n",
        "import seaborn as sns\n",
        "\n",
        "# Reproducibility\n",
        "np.random.seed(42)\n",
        "\n",
        "# Variables\n",
        "num_people = 150\n",
        "floors = ['Ground Floor', 'First Floor', 'Second Floor']\n",
        "timestamps = pd.date_range(start='2025-06-20 09:00:00', periods=60, freq='T')\n",
        "\n",
        "# Generate synthetic data\n",
        "df = pd.DataFrame({\n",
        "    'timestamp': np.random.choice(timestamps, num_people),\n",
        "    'floor': np.random.choice(floors, num_people),\n",
        "    'person_id': range(1, num_people + 1),\n",
        "    'location_x': np.random.randint(0, 100, num_people),\n",
        "    'location_y': np.random.randint(0, 100, num_people),\n",
        "    'smoke_level': np.round(np.clip(np.random.normal(0.2, 0.1, num_people), 0, 1), 2),\n",
        "    'alarm_status': np.random.choice(['OFF', 'ON'], num_people, p=[0.9, 0.1])\n",
        "})\n"
      ]
    },
    {
      "cell_type": "markdown",
      "source": [
        "# Dataset visualisation"
      ],
      "metadata": {
        "id": "nfjFJQ1ZRx7N"
      }
    },
    {
      "cell_type": "markdown",
      "source": [
        "## Head"
      ],
      "metadata": {
        "id": "N5XbVdWGR2wk"
      }
    },
    {
      "cell_type": "code",
      "source": [
        "# 1.1 Print sample\n",
        "df.head()\n"
      ],
      "metadata": {
        "colab": {
          "base_uri": "https://localhost:8080/",
          "height": 206
        },
        "id": "PvErtGHpRw7A",
        "outputId": "a6ecab8c-df05-4040-d670-5b5a9e5162e0"
      },
      "execution_count": 16,
      "outputs": [
        {
          "output_type": "execute_result",
          "data": {
            "text/plain": [
              "            timestamp         floor  person_id  location_x  location_y  \\\n",
              "0 2025-06-20 09:38:00  Ground Floor          1          98          31   \n",
              "1 2025-06-20 09:51:00  Second Floor          2           6          86   \n",
              "2 2025-06-20 09:28:00  Second Floor          3          15          62   \n",
              "3 2025-06-20 09:14:00   First Floor          4          89          85   \n",
              "4 2025-06-20 09:42:00  Ground Floor          5          59          50   \n",
              "\n",
              "   smoke_level alarm_status  \n",
              "0         0.19          OFF  \n",
              "1         0.15          OFF  \n",
              "2         0.21          OFF  \n",
              "3         0.25          OFF  \n",
              "4         0.37          OFF  "
            ],
            "text/html": [
              "\n",
              "  <div id=\"df-701ea497-3fbc-4790-9193-f8c8207b1fa1\" class=\"colab-df-container\">\n",
              "    <div>\n",
              "<style scoped>\n",
              "    .dataframe tbody tr th:only-of-type {\n",
              "        vertical-align: middle;\n",
              "    }\n",
              "\n",
              "    .dataframe tbody tr th {\n",
              "        vertical-align: top;\n",
              "    }\n",
              "\n",
              "    .dataframe thead th {\n",
              "        text-align: right;\n",
              "    }\n",
              "</style>\n",
              "<table border=\"1\" class=\"dataframe\">\n",
              "  <thead>\n",
              "    <tr style=\"text-align: right;\">\n",
              "      <th></th>\n",
              "      <th>timestamp</th>\n",
              "      <th>floor</th>\n",
              "      <th>person_id</th>\n",
              "      <th>location_x</th>\n",
              "      <th>location_y</th>\n",
              "      <th>smoke_level</th>\n",
              "      <th>alarm_status</th>\n",
              "    </tr>\n",
              "  </thead>\n",
              "  <tbody>\n",
              "    <tr>\n",
              "      <th>0</th>\n",
              "      <td>2025-06-20 09:38:00</td>\n",
              "      <td>Ground Floor</td>\n",
              "      <td>1</td>\n",
              "      <td>98</td>\n",
              "      <td>31</td>\n",
              "      <td>0.19</td>\n",
              "      <td>OFF</td>\n",
              "    </tr>\n",
              "    <tr>\n",
              "      <th>1</th>\n",
              "      <td>2025-06-20 09:51:00</td>\n",
              "      <td>Second Floor</td>\n",
              "      <td>2</td>\n",
              "      <td>6</td>\n",
              "      <td>86</td>\n",
              "      <td>0.15</td>\n",
              "      <td>OFF</td>\n",
              "    </tr>\n",
              "    <tr>\n",
              "      <th>2</th>\n",
              "      <td>2025-06-20 09:28:00</td>\n",
              "      <td>Second Floor</td>\n",
              "      <td>3</td>\n",
              "      <td>15</td>\n",
              "      <td>62</td>\n",
              "      <td>0.21</td>\n",
              "      <td>OFF</td>\n",
              "    </tr>\n",
              "    <tr>\n",
              "      <th>3</th>\n",
              "      <td>2025-06-20 09:14:00</td>\n",
              "      <td>First Floor</td>\n",
              "      <td>4</td>\n",
              "      <td>89</td>\n",
              "      <td>85</td>\n",
              "      <td>0.25</td>\n",
              "      <td>OFF</td>\n",
              "    </tr>\n",
              "    <tr>\n",
              "      <th>4</th>\n",
              "      <td>2025-06-20 09:42:00</td>\n",
              "      <td>Ground Floor</td>\n",
              "      <td>5</td>\n",
              "      <td>59</td>\n",
              "      <td>50</td>\n",
              "      <td>0.37</td>\n",
              "      <td>OFF</td>\n",
              "    </tr>\n",
              "  </tbody>\n",
              "</table>\n",
              "</div>\n",
              "    <div class=\"colab-df-buttons\">\n",
              "\n",
              "  <div class=\"colab-df-container\">\n",
              "    <button class=\"colab-df-convert\" onclick=\"convertToInteractive('df-701ea497-3fbc-4790-9193-f8c8207b1fa1')\"\n",
              "            title=\"Convert this dataframe to an interactive table.\"\n",
              "            style=\"display:none;\">\n",
              "\n",
              "  <svg xmlns=\"http://www.w3.org/2000/svg\" height=\"24px\" viewBox=\"0 -960 960 960\">\n",
              "    <path d=\"M120-120v-720h720v720H120Zm60-500h600v-160H180v160Zm220 220h160v-160H400v160Zm0 220h160v-160H400v160ZM180-400h160v-160H180v160Zm440 0h160v-160H620v160ZM180-180h160v-160H180v160Zm440 0h160v-160H620v160Z\"/>\n",
              "  </svg>\n",
              "    </button>\n",
              "\n",
              "  <style>\n",
              "    .colab-df-container {\n",
              "      display:flex;\n",
              "      gap: 12px;\n",
              "    }\n",
              "\n",
              "    .colab-df-convert {\n",
              "      background-color: #E8F0FE;\n",
              "      border: none;\n",
              "      border-radius: 50%;\n",
              "      cursor: pointer;\n",
              "      display: none;\n",
              "      fill: #1967D2;\n",
              "      height: 32px;\n",
              "      padding: 0 0 0 0;\n",
              "      width: 32px;\n",
              "    }\n",
              "\n",
              "    .colab-df-convert:hover {\n",
              "      background-color: #E2EBFA;\n",
              "      box-shadow: 0px 1px 2px rgba(60, 64, 67, 0.3), 0px 1px 3px 1px rgba(60, 64, 67, 0.15);\n",
              "      fill: #174EA6;\n",
              "    }\n",
              "\n",
              "    .colab-df-buttons div {\n",
              "      margin-bottom: 4px;\n",
              "    }\n",
              "\n",
              "    [theme=dark] .colab-df-convert {\n",
              "      background-color: #3B4455;\n",
              "      fill: #D2E3FC;\n",
              "    }\n",
              "\n",
              "    [theme=dark] .colab-df-convert:hover {\n",
              "      background-color: #434B5C;\n",
              "      box-shadow: 0px 1px 3px 1px rgba(0, 0, 0, 0.15);\n",
              "      filter: drop-shadow(0px 1px 2px rgba(0, 0, 0, 0.3));\n",
              "      fill: #FFFFFF;\n",
              "    }\n",
              "  </style>\n",
              "\n",
              "    <script>\n",
              "      const buttonEl =\n",
              "        document.querySelector('#df-701ea497-3fbc-4790-9193-f8c8207b1fa1 button.colab-df-convert');\n",
              "      buttonEl.style.display =\n",
              "        google.colab.kernel.accessAllowed ? 'block' : 'none';\n",
              "\n",
              "      async function convertToInteractive(key) {\n",
              "        const element = document.querySelector('#df-701ea497-3fbc-4790-9193-f8c8207b1fa1');\n",
              "        const dataTable =\n",
              "          await google.colab.kernel.invokeFunction('convertToInteractive',\n",
              "                                                    [key], {});\n",
              "        if (!dataTable) return;\n",
              "\n",
              "        const docLinkHtml = 'Like what you see? Visit the ' +\n",
              "          '<a target=\"_blank\" href=https://colab.research.google.com/notebooks/data_table.ipynb>data table notebook</a>'\n",
              "          + ' to learn more about interactive tables.';\n",
              "        element.innerHTML = '';\n",
              "        dataTable['output_type'] = 'display_data';\n",
              "        await google.colab.output.renderOutput(dataTable, element);\n",
              "        const docLink = document.createElement('div');\n",
              "        docLink.innerHTML = docLinkHtml;\n",
              "        element.appendChild(docLink);\n",
              "      }\n",
              "    </script>\n",
              "  </div>\n",
              "\n",
              "\n",
              "    <div id=\"df-d1e6b526-ff76-49a3-9c07-cabbb4a77181\">\n",
              "      <button class=\"colab-df-quickchart\" onclick=\"quickchart('df-d1e6b526-ff76-49a3-9c07-cabbb4a77181')\"\n",
              "                title=\"Suggest charts\"\n",
              "                style=\"display:none;\">\n",
              "\n",
              "<svg xmlns=\"http://www.w3.org/2000/svg\" height=\"24px\"viewBox=\"0 0 24 24\"\n",
              "     width=\"24px\">\n",
              "    <g>\n",
              "        <path d=\"M19 3H5c-1.1 0-2 .9-2 2v14c0 1.1.9 2 2 2h14c1.1 0 2-.9 2-2V5c0-1.1-.9-2-2-2zM9 17H7v-7h2v7zm4 0h-2V7h2v10zm4 0h-2v-4h2v4z\"/>\n",
              "    </g>\n",
              "</svg>\n",
              "      </button>\n",
              "\n",
              "<style>\n",
              "  .colab-df-quickchart {\n",
              "      --bg-color: #E8F0FE;\n",
              "      --fill-color: #1967D2;\n",
              "      --hover-bg-color: #E2EBFA;\n",
              "      --hover-fill-color: #174EA6;\n",
              "      --disabled-fill-color: #AAA;\n",
              "      --disabled-bg-color: #DDD;\n",
              "  }\n",
              "\n",
              "  [theme=dark] .colab-df-quickchart {\n",
              "      --bg-color: #3B4455;\n",
              "      --fill-color: #D2E3FC;\n",
              "      --hover-bg-color: #434B5C;\n",
              "      --hover-fill-color: #FFFFFF;\n",
              "      --disabled-bg-color: #3B4455;\n",
              "      --disabled-fill-color: #666;\n",
              "  }\n",
              "\n",
              "  .colab-df-quickchart {\n",
              "    background-color: var(--bg-color);\n",
              "    border: none;\n",
              "    border-radius: 50%;\n",
              "    cursor: pointer;\n",
              "    display: none;\n",
              "    fill: var(--fill-color);\n",
              "    height: 32px;\n",
              "    padding: 0;\n",
              "    width: 32px;\n",
              "  }\n",
              "\n",
              "  .colab-df-quickchart:hover {\n",
              "    background-color: var(--hover-bg-color);\n",
              "    box-shadow: 0 1px 2px rgba(60, 64, 67, 0.3), 0 1px 3px 1px rgba(60, 64, 67, 0.15);\n",
              "    fill: var(--button-hover-fill-color);\n",
              "  }\n",
              "\n",
              "  .colab-df-quickchart-complete:disabled,\n",
              "  .colab-df-quickchart-complete:disabled:hover {\n",
              "    background-color: var(--disabled-bg-color);\n",
              "    fill: var(--disabled-fill-color);\n",
              "    box-shadow: none;\n",
              "  }\n",
              "\n",
              "  .colab-df-spinner {\n",
              "    border: 2px solid var(--fill-color);\n",
              "    border-color: transparent;\n",
              "    border-bottom-color: var(--fill-color);\n",
              "    animation:\n",
              "      spin 1s steps(1) infinite;\n",
              "  }\n",
              "\n",
              "  @keyframes spin {\n",
              "    0% {\n",
              "      border-color: transparent;\n",
              "      border-bottom-color: var(--fill-color);\n",
              "      border-left-color: var(--fill-color);\n",
              "    }\n",
              "    20% {\n",
              "      border-color: transparent;\n",
              "      border-left-color: var(--fill-color);\n",
              "      border-top-color: var(--fill-color);\n",
              "    }\n",
              "    30% {\n",
              "      border-color: transparent;\n",
              "      border-left-color: var(--fill-color);\n",
              "      border-top-color: var(--fill-color);\n",
              "      border-right-color: var(--fill-color);\n",
              "    }\n",
              "    40% {\n",
              "      border-color: transparent;\n",
              "      border-right-color: var(--fill-color);\n",
              "      border-top-color: var(--fill-color);\n",
              "    }\n",
              "    60% {\n",
              "      border-color: transparent;\n",
              "      border-right-color: var(--fill-color);\n",
              "    }\n",
              "    80% {\n",
              "      border-color: transparent;\n",
              "      border-right-color: var(--fill-color);\n",
              "      border-bottom-color: var(--fill-color);\n",
              "    }\n",
              "    90% {\n",
              "      border-color: transparent;\n",
              "      border-bottom-color: var(--fill-color);\n",
              "    }\n",
              "  }\n",
              "</style>\n",
              "\n",
              "      <script>\n",
              "        async function quickchart(key) {\n",
              "          const quickchartButtonEl =\n",
              "            document.querySelector('#' + key + ' button');\n",
              "          quickchartButtonEl.disabled = true;  // To prevent multiple clicks.\n",
              "          quickchartButtonEl.classList.add('colab-df-spinner');\n",
              "          try {\n",
              "            const charts = await google.colab.kernel.invokeFunction(\n",
              "                'suggestCharts', [key], {});\n",
              "          } catch (error) {\n",
              "            console.error('Error during call to suggestCharts:', error);\n",
              "          }\n",
              "          quickchartButtonEl.classList.remove('colab-df-spinner');\n",
              "          quickchartButtonEl.classList.add('colab-df-quickchart-complete');\n",
              "        }\n",
              "        (() => {\n",
              "          let quickchartButtonEl =\n",
              "            document.querySelector('#df-d1e6b526-ff76-49a3-9c07-cabbb4a77181 button');\n",
              "          quickchartButtonEl.style.display =\n",
              "            google.colab.kernel.accessAllowed ? 'block' : 'none';\n",
              "        })();\n",
              "      </script>\n",
              "    </div>\n",
              "\n",
              "    </div>\n",
              "  </div>\n"
            ],
            "application/vnd.google.colaboratory.intrinsic+json": {
              "type": "dataframe",
              "variable_name": "df",
              "summary": "{\n  \"name\": \"df\",\n  \"rows\": 150,\n  \"fields\": [\n    {\n      \"column\": \"timestamp\",\n      \"properties\": {\n        \"dtype\": \"date\",\n        \"min\": \"2025-06-20 09:00:00\",\n        \"max\": \"2025-06-20 09:59:00\",\n        \"num_unique_values\": 56,\n        \"samples\": [\n          \"2025-06-20 09:38:00\",\n          \"2025-06-20 09:07:00\",\n          \"2025-06-20 09:54:00\"\n        ],\n        \"semantic_type\": \"\",\n        \"description\": \"\"\n      }\n    },\n    {\n      \"column\": \"floor\",\n      \"properties\": {\n        \"dtype\": \"category\",\n        \"num_unique_values\": 3,\n        \"samples\": [\n          \"Ground Floor\",\n          \"Second Floor\",\n          \"First Floor\"\n        ],\n        \"semantic_type\": \"\",\n        \"description\": \"\"\n      }\n    },\n    {\n      \"column\": \"person_id\",\n      \"properties\": {\n        \"dtype\": \"number\",\n        \"std\": 43,\n        \"min\": 1,\n        \"max\": 150,\n        \"num_unique_values\": 150,\n        \"samples\": [\n          74,\n          19,\n          119\n        ],\n        \"semantic_type\": \"\",\n        \"description\": \"\"\n      }\n    },\n    {\n      \"column\": \"location_x\",\n      \"properties\": {\n        \"dtype\": \"number\",\n        \"std\": 29,\n        \"min\": 0,\n        \"max\": 99,\n        \"num_unique_values\": 76,\n        \"samples\": [\n          59,\n          67,\n          36\n        ],\n        \"semantic_type\": \"\",\n        \"description\": \"\"\n      }\n    },\n    {\n      \"column\": \"location_y\",\n      \"properties\": {\n        \"dtype\": \"number\",\n        \"std\": 29,\n        \"min\": 0,\n        \"max\": 99,\n        \"num_unique_values\": 74,\n        \"samples\": [\n          50,\n          83,\n          52\n        ],\n        \"semantic_type\": \"\",\n        \"description\": \"\"\n      }\n    },\n    {\n      \"column\": \"smoke_level\",\n      \"properties\": {\n        \"dtype\": \"number\",\n        \"std\": 0.10186151058082538,\n        \"min\": 0.0,\n        \"max\": 0.53,\n        \"num_unique_values\": 41,\n        \"samples\": [\n          0.23,\n          0.29,\n          0.3\n        ],\n        \"semantic_type\": \"\",\n        \"description\": \"\"\n      }\n    },\n    {\n      \"column\": \"alarm_status\",\n      \"properties\": {\n        \"dtype\": \"category\",\n        \"num_unique_values\": 2,\n        \"samples\": [\n          \"ON\",\n          \"OFF\"\n        ],\n        \"semantic_type\": \"\",\n        \"description\": \"\"\n      }\n    }\n  ]\n}"
            }
          },
          "metadata": {},
          "execution_count": 16
        }
      ]
    },
    {
      "cell_type": "markdown",
      "source": [
        "## Bar chart - people per floor"
      ],
      "metadata": {
        "id": "bk9BjFL0R5P0"
      }
    },
    {
      "cell_type": "code",
      "source": [
        "# Count people per floor\n",
        "plt.figure(figsize=(8, 5))\n",
        "sns.countplot(data=df, x='floor', order=floors)\n",
        "plt.title(\"Number of People on Each Floor\")\n",
        "plt.ylabel(\"Number of People\")\n",
        "plt.xlabel(\"Floor\")\n",
        "plt.xticks(rotation=30)\n",
        "plt.tight_layout()\n",
        "plt.show()\n"
      ],
      "metadata": {
        "colab": {
          "base_uri": "https://localhost:8080/",
          "height": 507
        },
        "id": "Hu4qQH-vRNyx",
        "outputId": "eaaae0cd-55db-423e-9853-d8d935f739cf"
      },
      "execution_count": 17,
      "outputs": [
        {
          "output_type": "display_data",
          "data": {
            "text/plain": [
              "<Figure size 800x500 with 1 Axes>"
            ],
            "image/png": "[encoded data removed]"
          },
          "metadata": {}
        }
      ]
    },
    {
      "cell_type": "markdown",
      "source": [
        "## Heat maps each floor"
      ],
      "metadata": {
        "id": "oFgNoqTpR8W2"
      }
    },
    {
      "cell_type": "code",
      "source": [
        "# Heatmaps of person density by location on each floor\n",
        "for floor in floors:\n",
        "    subset = df[df['floor'] == floor]\n",
        "    heatmap_data = subset.groupby(['location_y', 'location_x']).size().unstack(fill_value=0)\n",
        "\n",
        "    plt.figure(figsize=(10, 6))\n",
        "    sns.heatmap(heatmap_data, cmap=\"YlOrRd\")\n",
        "    plt.title(f\"Heatmap of People - {floor}\")\n",
        "    plt.xlabel(\"X\")\n",
        "    plt.ylabel(\"Y\")\n",
        "    plt.show()\n"
      ],
      "metadata": {
        "colab": {
          "base_uri": "https://localhost:8080/",
          "height": 1000
        },
        "id": "HVi-MDeSRTui",
        "outputId": "d45cd8db-7720-4074-e0ac-5c737b127491"
      },
      "execution_count": 5,
      "outputs": [
        {
          "output_type": "display_data",
          "data": {
            "text/plain": [
              "<Figure size 1000x600 with 2 Axes>"
            ],
            "image/png": "[encoded data removed]"
          },
          "metadata": {}
        },
        {
          "output_type": "display_data",
          "data": {
            "text/plain": [
              "<Figure size 1000x600 with 2 Axes>"
            ],
            "image/png": "[encoded data removed]"
          },
          "metadata": {}
        },
        {
          "output_type": "display_data",
          "data": {
            "text/plain": [
              "<Figure size 1000x600 with 2 Axes>"
            ],
            "image/png": "[encoded data removed]"
          },
          "metadata": {}
        }
      ]
    },
    {
      "cell_type": "markdown",
      "source": [
        "# ABM"
      ],
      "metadata": {
        "id": "o1F2JL5aSAm0"
      }
    },
    {
      "cell_type": "markdown",
      "source": [
        "## Main"
      ],
      "metadata": {
        "id": "7dJh4z3TSGqb"
      }
    },
    {
      "cell_type": "code",
      "source": [
        "import random\n",
        "from tqdm import tqdm\n",
        "\n",
        "# Define exit coordinates (simplified assumption)\n",
        "exit_coords = {\n",
        "    'Ground Floor': (5, 5),\n",
        "    'First Floor': (50, 0),\n",
        "    'Second Floor': (95, 95)\n",
        "}\n",
        "\n",
        "def simulate_abm_evacuation(df, speed=3, max_time=120):\n",
        "    evacuation_data = []\n",
        "\n",
        "    for _, person in df.iterrows():\n",
        "        x, y = person['location_x'], person['location_y']\n",
        "        exit_x, exit_y = exit_coords[person['floor']]\n",
        "        distance = np.sqrt((exit_x - x)**2 + (exit_y - y)**2)\n",
        "        time_to_exit = int(distance / speed)\n",
        "        evacuation_time = min(time_to_exit, max_time)\n",
        "\n",
        "        evacuation_data.append({\n",
        "            'person_id': person['person_id'],\n",
        "            'floor': person['floor'],\n",
        "            'evacuation_time': evacuation_time,\n",
        "            'evacuated': evacuation_time < max_time\n",
        "        })\n",
        "\n",
        "    return pd.DataFrame(evacuation_data)\n"
      ],
      "metadata": {
        "id": "aqcdqWR_RXLL"
      },
      "execution_count": 6,
      "outputs": []
    },
    {
      "cell_type": "markdown",
      "source": [
        "## S0"
      ],
      "metadata": {
        "id": "4V28txfBSIxL"
      }
    },
    {
      "cell_type": "code",
      "source": [
        "# Scenario 0 - Normal movement to exits\n",
        "evac_base = simulate_abm_evacuation(df)\n",
        "\n",
        "# KPIs\n",
        "def collect_kpis(evac_data, label='Base Scenario'):\n",
        "    avg_time = evac_data['evacuation_time'].mean()\n",
        "    total_time = evac_data['evacuation_time'].sum()\n",
        "    completion_rate = evac_data['evacuated'].mean()\n",
        "\n",
        "    print(f\"--- {label} ---\")\n",
        "    print(f\"Average Evacuation Time: {avg_time:.2f} seconds\")\n",
        "    print(f\"Total Evacuation Time: {total_time} seconds\")\n",
        "    print(f\"Evacuation Completion Rate: {completion_rate*100:.2f}%\\n\")\n",
        "\n",
        "collect_kpis(evac_base, label=\"ABM Scenario 0: Control\")\n"
      ],
      "metadata": {
        "colab": {
          "base_uri": "https://localhost:8080/"
        },
        "id": "q5vu2r44RY2t",
        "outputId": "5bd5822a-a468-43e8-d076-7f909cba19b0"
      },
      "execution_count": 7,
      "outputs": [
        {
          "output_type": "stream",
          "name": "stdout",
          "text": [
            "--- ABM Scenario 0: Control ---\n",
            "Average Evacuation Time: 22.65 seconds\n",
            "Total Evacuation Time: 3397 seconds\n",
            "Evacuation Completion Rate: 100.00%\n",
            "\n"
          ]
        }
      ]
    },
    {
      "cell_type": "markdown",
      "source": [
        "## S1"
      ],
      "metadata": {
        "id": "iiJ6o1cCSLWb"
      }
    },
    {
      "cell_type": "code",
      "source": [
        "# Increase smoke level on Ground Floor → lower speed\n",
        "df_scenario1 = df.copy()\n",
        "df_scenario1.loc[df_scenario1['floor'] == 'Ground Floor', 'smoke_level'] = 1.0\n",
        "\n",
        "# Simulate evacuation with lower speed on Ground Floor\n",
        "def simulate_fire_delay(df):\n",
        "    data = []\n",
        "    for _, person in df.iterrows():\n",
        "        floor = person['floor']\n",
        "        x, y = person['location_x'], person['location_y']\n",
        "        exit_x, exit_y = exit_coords[floor]\n",
        "        distance = np.sqrt((exit_x - x)**2 + (exit_y - y)**2)\n",
        "\n",
        "        speed = 1.5 if floor == 'Ground Floor' else 3.0\n",
        "        time_to_exit = int(distance / speed)\n",
        "        evacuation_time = min(time_to_exit, 120)\n",
        "\n",
        "        data.append({\n",
        "            'person_id': person['person_id'],\n",
        "            'floor': person['floor'],\n",
        "            'evacuation_time': evacuation_time,\n",
        "            'evacuated': evacuation_time < 120\n",
        "        })\n",
        "    return pd.DataFrame(data)\n",
        "\n",
        "evac_scenario1 = simulate_fire_delay(df_scenario1)\n",
        "collect_kpis(evac_scenario1, label=\"ABM Scenario 1: Fire near Ground Exit\")\n"
      ],
      "metadata": {
        "colab": {
          "base_uri": "https://localhost:8080/"
        },
        "id": "i3ITWkVjRaWI",
        "outputId": "9b4877b5-2fb0-40b6-d4ed-c08ac9fc58ed"
      },
      "execution_count": 8,
      "outputs": [
        {
          "output_type": "stream",
          "name": "stdout",
          "text": [
            "--- ABM Scenario 1: Fire near Ground Exit ---\n",
            "Average Evacuation Time: 30.11 seconds\n",
            "Total Evacuation Time: 4516 seconds\n",
            "Evacuation Completion Rate: 100.00%\n",
            "\n"
          ]
        }
      ]
    },
    {
      "cell_type": "markdown",
      "source": [
        "## S2"
      ],
      "metadata": {
        "id": "MeArD4XlSNQe"
      }
    },
    {
      "cell_type": "code",
      "source": [
        "# Crowd on First Floor → reduce speed\n",
        "def simulate_crowd_delay(df):\n",
        "    data = []\n",
        "    for _, person in df.iterrows():\n",
        "        floor = person['floor']\n",
        "        x, y = person['location_x'], person['location_y']\n",
        "        exit_x, exit_y = exit_coords[floor]\n",
        "        distance = np.sqrt((exit_x - x)**2 + (exit_y - y)**2)\n",
        "\n",
        "        speed = 1.5 if floor == 'First Floor' else 3.0\n",
        "        time_to_exit = int(distance / speed)\n",
        "        evacuation_time = min(time_to_exit, 120)\n",
        "\n",
        "        data.append({\n",
        "            'person_id': person['person_id'],\n",
        "            'floor': person['floor'],\n",
        "            'evacuation_time': evacuation_time,\n",
        "            'evacuated': evacuation_time < 120\n",
        "        })\n",
        "    return pd.DataFrame(data)\n",
        "\n",
        "evac_scenario2 = simulate_crowd_delay(df)\n",
        "collect_kpis(evac_scenario2, label=\"ABM Scenario 2: Overcrowding on First Floor\")\n"
      ],
      "metadata": {
        "colab": {
          "base_uri": "https://localhost:8080/"
        },
        "id": "GjZH0UD5RetN",
        "outputId": "f51aaf17-f281-4d4d-a1c9-1fbad41a2de4"
      },
      "execution_count": 10,
      "outputs": [
        {
          "output_type": "stream",
          "name": "stdout",
          "text": [
            "--- ABM Scenario 2: Overcrowding on First Floor ---\n",
            "Average Evacuation Time: 28.48 seconds\n",
            "Total Evacuation Time: 4272 seconds\n",
            "Evacuation Completion Rate: 100.00%\n",
            "\n"
          ]
        }
      ]
    },
    {
      "cell_type": "markdown",
      "source": [
        "# DES"
      ],
      "metadata": {
        "id": "58G6u7imSRhp"
      }
    },
    {
      "cell_type": "markdown",
      "source": [
        "## Main"
      ],
      "metadata": {
        "id": "MPc-o9WaSUi0"
      }
    },
    {
      "cell_type": "code",
      "source": [
        "# DES model includes delay until alarm activates + movement\n",
        "def simulate_des(df, alarm_delay=10, response_delay=5, speed=3):\n",
        "    des_data = []\n",
        "\n",
        "    for _, person in df.iterrows():\n",
        "        floor = person['floor']\n",
        "        alarm_active = person['alarm_status'] == \"ON\"\n",
        "\n",
        "        # Delay in seconds before movement starts\n",
        "        delay = 0 if alarm_active else alarm_delay + response_delay\n",
        "\n",
        "        x, y = person['location_x'], person['location_y']\n",
        "        exit_x, exit_y = exit_coords[floor]\n",
        "        distance = np.sqrt((exit_x - x)**2 + (exit_y - y)**2)\n",
        "        move_time = int(distance / speed)\n",
        "\n",
        "        total_time = delay + move_time\n",
        "\n",
        "        des_data.append({\n",
        "            'person_id': person['person_id'],\n",
        "            'floor': floor,\n",
        "            'evacuation_time': total_time,\n",
        "            'evacuated': total_time <= 120\n",
        "        })\n",
        "\n",
        "    return pd.DataFrame(des_data)\n",
        "\n",
        "des_base = simulate_des(df)\n",
        "collect_kpis(des_base, label=\"DES Scenario 0: Control\")\n"
      ],
      "metadata": {
        "colab": {
          "base_uri": "https://localhost:8080/"
        },
        "id": "uT6rwJjISXQr",
        "outputId": "a535e586-5912-457d-d7e7-79534b412881"
      },
      "execution_count": 18,
      "outputs": [
        {
          "output_type": "stream",
          "name": "stdout",
          "text": [
            "--- DES Scenario 0: Control ---\n",
            "Average Evacuation Time: 36.45 seconds\n",
            "Total Evacuation Time: 5467 seconds\n",
            "Evacuation Completion Rate: 100.00%\n",
            "\n"
          ]
        }
      ]
    },
    {
      "cell_type": "markdown",
      "source": [
        "## S0"
      ],
      "metadata": {
        "id": "vkoOTDqISW6C"
      }
    },
    {
      "cell_type": "code",
      "source": [
        "# People on First Floor get alarm late → longer delay\n",
        "def simulate_des_delayed_alarm(df):\n",
        "    des_data = []\n",
        "\n",
        "    for _, person in df.iterrows():\n",
        "        floor = person['floor']\n",
        "        alarm_active = person['alarm_status'] == \"ON\"\n",
        "\n",
        "        # Artificially delay alarm only for First Floor\n",
        "        if floor == \"First Floor\":\n",
        "            delay = 30  # significant delay\n",
        "        else:\n",
        "            delay = 0 if alarm_active else 10 + 5\n",
        "\n",
        "        x, y = person['location_x'], person['location_y']\n",
        "        exit_x, exit_y = exit_coords[floor]\n",
        "        distance = np.sqrt((exit_x - x)**2 + (exit_y - y)**2)\n",
        "        move_time = int(distance / 3)\n",
        "\n",
        "        total_time = delay + move_time\n",
        "\n",
        "        des_data.append({\n",
        "            'person_id': person['person_id'],\n",
        "            'floor': floor,\n",
        "            'evacuation_time': total_time,\n",
        "            'evacuated': total_time <= 120\n",
        "        })\n",
        "\n",
        "    return pd.DataFrame(des_data)\n",
        "\n",
        "des_scenario1 = simulate_des_delayed_alarm(df)\n",
        "collect_kpis(des_scenario1, label=\"DES Scenario 1: Delayed Alarm First Floor\")\n"
      ],
      "metadata": {
        "colab": {
          "base_uri": "https://localhost:8080/"
        },
        "id": "pr_a2Uz2SZYr",
        "outputId": "57b023e5-3ca6-4a26-a813-a9bc8e83c3b4"
      },
      "execution_count": 19,
      "outputs": [
        {
          "output_type": "stream",
          "name": "stdout",
          "text": [
            "--- DES Scenario 1: Delayed Alarm First Floor ---\n",
            "Average Evacuation Time: 41.15 seconds\n",
            "Total Evacuation Time: 6172 seconds\n",
            "Evacuation Completion Rate: 100.00%\n",
            "\n"
          ]
        }
      ]
    },
    {
      "cell_type": "markdown",
      "source": [
        "## S1"
      ],
      "metadata": {
        "id": "l8N4F9EXSbS6"
      }
    },
    {
      "cell_type": "code",
      "source": [
        "# People on First Floor get alarm late → longer delay\n",
        "def simulate_des_delayed_alarm(df):\n",
        "    des_data = []\n",
        "\n",
        "    for _, person in df.iterrows():\n",
        "        floor = person['floor']\n",
        "        alarm_active = person['alarm_status'] == \"ON\"\n",
        "\n",
        "        # Artificially delay alarm only for First Floor\n",
        "        if floor == \"First Floor\":\n",
        "            delay = 30  # significant delay\n",
        "        else:\n",
        "            delay = 0 if alarm_active else 10 + 5\n",
        "\n",
        "        x, y = person['location_x'], person['location_y']\n",
        "        exit_x, exit_y = exit_coords[floor]\n",
        "        distance = np.sqrt((exit_x - x)**2 + (exit_y - y)**2)\n",
        "        move_time = int(distance / 3)\n",
        "\n",
        "        total_time = delay + move_time\n",
        "\n",
        "        des_data.append({\n",
        "            'person_id': person['person_id'],\n",
        "            'floor': floor,\n",
        "            'evacuation_time': total_time,\n",
        "            'evacuated': total_time <= 120\n",
        "        })\n",
        "\n",
        "    return pd.DataFrame(des_data)\n",
        "\n",
        "des_scenario1 = simulate_des_delayed_alarm(df)\n",
        "collect_kpis(des_scenario1, label=\"DES Scenario 1: Delayed Alarm First Floor\")\n"
      ],
      "metadata": {
        "colab": {
          "base_uri": "https://localhost:8080/"
        },
        "id": "9eEbUXYYSbS7",
        "outputId": "19da001d-ba84-46bc-beae-f5529c1714f3"
      },
      "execution_count": 20,
      "outputs": [
        {
          "output_type": "stream",
          "name": "stdout",
          "text": [
            "--- DES Scenario 1: Delayed Alarm First Floor ---\n",
            "Average Evacuation Time: 41.15 seconds\n",
            "Total Evacuation Time: 6172 seconds\n",
            "Evacuation Completion Rate: 100.00%\n",
            "\n"
          ]
        }
      ]
    },
    {
      "cell_type": "markdown",
      "source": [
        "## S2"
      ],
      "metadata": {
        "id": "1Vd2jCqRSbkD"
      }
    },
    {
      "cell_type": "code",
      "source": [
        "# Alarm never turns ON for Second Floor → very late response\n",
        "def simulate_des_alarm_failure(df):\n",
        "    des_data = []\n",
        "\n",
        "    for _, person in df.iterrows():\n",
        "        floor = person['floor']\n",
        "\n",
        "        if floor == \"Second Floor\":\n",
        "            delay = 999  # beyond allowed window\n",
        "        else:\n",
        "            alarm_active = person['alarm_status'] == \"ON\"\n",
        "            delay = 0 if alarm_active else 10 + 5\n",
        "\n",
        "        x, y = person['location_x'], person['location_y']\n",
        "        exit_x, exit_y = exit_coords[floor]\n",
        "        distance = np.sqrt((exit_x - x)**2 + (exit_y - y)**2)\n",
        "        move_time = int(distance / 3)\n",
        "\n",
        "        total_time = delay + move_time\n",
        "\n",
        "        des_data.append({\n",
        "            'person_id': person['person_id'],\n",
        "            'floor': floor,\n",
        "            'evacuation_time': total_time,\n",
        "            'evacuated': total_time <= 120\n",
        "        })\n",
        "\n",
        "    return pd.DataFrame(des_data)\n",
        "\n",
        "des_scenario2 = simulate_des_alarm_failure(df)\n",
        "collect_kpis(des_scenario2, label=\"DES Scenario 2: Alarm Failure Second Floor\")\n"
      ],
      "metadata": {
        "colab": {
          "base_uri": "https://localhost:8080/"
        },
        "id": "F6CHp_jcSbkE",
        "outputId": "aa46eb22-a94f-47d2-b2ea-5f2c0bd59f58"
      },
      "execution_count": 21,
      "outputs": [
        {
          "output_type": "stream",
          "name": "stdout",
          "text": [
            "--- DES Scenario 2: Alarm Failure Second Floor ---\n",
            "Average Evacuation Time: 417.33 seconds\n",
            "Total Evacuation Time: 62599 seconds\n",
            "Evacuation Completion Rate: 61.33%\n",
            "\n"
          ]
        }
      ]
    },
    {
      "cell_type": "markdown",
      "source": [
        "# Visual KPI comparison"
      ],
      "metadata": {
        "id": "etzlvZd5SqRD"
      }
    },
    {
      "cell_type": "code",
      "source": [],
      "metadata": {
        "id": "Dpybtn9fSthD"
      },
      "execution_count": null,
      "outputs": []
    }
  ]
}